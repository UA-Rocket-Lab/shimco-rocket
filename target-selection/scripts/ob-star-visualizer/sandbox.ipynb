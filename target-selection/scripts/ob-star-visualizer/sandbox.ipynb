{
 "cells": [
  {
   "cell_type": "markdown",
   "metadata": {},
   "source": [
    "# Convert data files to .json"
   ]
  },
  {
   "cell_type": "code",
   "execution_count": 18,
   "metadata": {},
   "outputs": [],
   "source": [
    "import os\n",
    "import numpy as np\n",
    "import pandas as pd\n",
    "from data import plot_data, nighttime_frac\n",
    "from load_fims_spear_maps import integrated_h2_map\n",
    "\n",
    "mags = np.array(plot_data['Apparent Magnitude'])\n",
    "\n",
    "pt1 = [np.min(mags.astype('float')), 30]\n",
    "pt2 = [np.max(mags.astype('float')), 3]\n",
    "tau = (pt2[0]-pt1[0]) / np.log(pt1[1]/pt2[1])\n",
    "A = pt1[1] * np.exp(pt1[0] / tau)\n",
    "sizes = A * np.exp(-mags.astype('float') / tau)\n",
    "\n",
    "plot_data[\"Size\"] = sizes\n",
    "\n",
    "plot_data.to_json('../v2-static-ob-star-visualizer/static/data/plot_data.json', orient='records')\n",
    "# pd.DataFrame(nighttime_frac).to_json('../static-ob-star-visualizer/static/data/nighttime_frac.json', orient='records')\n",
    "# pd.DataFrame(integrated_h2_map).to_json('../static-ob-star-visualizer/static/data/integrated_h2_map.json', orient='records')\n",
    "\n",
    "# for file_name in os.listdir('../../ob_catalogue/ob_catalogue_spectra/'):\n",
    "#     if file_name[-4:] == '.csv':\n",
    "#         spectrum = pd.DataFrame(np.genfromtxt('../../ob_catalogue/ob_catalogue_spectra/' + file_name, delimiter=',', dtype='float'))\n",
    "#         plot_data.to_json(f'../static-ob-star-visualizer/static/data/spectra/{file_name[:-4]}.json', orient='records')"
   ]
  },
  {
   "cell_type": "code",
   "execution_count": null,
   "metadata": {},
   "outputs": [],
   "source": []
  }
 ],
 "metadata": {
  "kernelspec": {
   "display_name": "Python (conda_env)",
   "language": "python",
   "name": "conda_env"
  },
  "language_info": {
   "codemirror_mode": {
    "name": "ipython",
    "version": 3
   },
   "file_extension": ".py",
   "mimetype": "text/x-python",
   "name": "python",
   "nbconvert_exporter": "python",
   "pygments_lexer": "ipython3",
   "version": "3.12.2"
  }
 },
 "nbformat": 4,
 "nbformat_minor": 2
}
