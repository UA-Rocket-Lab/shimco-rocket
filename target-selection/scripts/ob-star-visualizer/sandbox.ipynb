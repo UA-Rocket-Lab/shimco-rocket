{
 "cells": [
  {
   "cell_type": "markdown",
   "metadata": {},
   "source": [
    "# Convert data files to .json"
   ]
  },
  {
   "cell_type": "code",
   "execution_count": 16,
   "metadata": {},
   "outputs": [],
   "source": [
    "import os\n",
    "import numpy as np\n",
    "import pandas as pd\n",
    "from data import plot_data, nighttime_frac\n",
    "from load_fims_spear_maps import integrated_h2_map\n",
    "\n",
    "plot_data = plot_data.drop('Hover Text', axis=1)\n",
    "\n",
    "### fix sizes \n",
    "\n",
    "mags = np.array(plot_data['Apparent Magnitude'])\n",
    "\n",
    "pt1 = [np.min(mags.astype('float')), 30]\n",
    "pt2 = [np.max(mags.astype('float')), 3]\n",
    "tau = (pt2[0]-pt1[0]) / np.log(pt1[1]/pt2[1])\n",
    "A = pt1[1] * np.exp(pt1[0] / tau)\n",
    "sizes = A * np.exp(-mags.astype('float') / tau)\n",
    "\n",
    "plot_data[\"Size\"] = sizes\n",
    "\n",
    "### add has spectra column\n",
    "\n",
    "hasspectra = np.zeros(plot_data.shape[0]).astype('bool')\n",
    "names = os.listdir('../v2-static-ob-star-visualizer/static/data/spectra')\n",
    "for i, name in enumerate(plot_data[\"Name\"]+\".json\"):\n",
    "\n",
    "    if name.replace(' ', '_') in names:\n",
    "        hasspectra[i] = True\n",
    "\n",
    "plot_data[\"HasSpectra\"] = hasspectra\n",
    "\n",
    "### export\n",
    "\n",
    "plot_data.to_json('../v2-static-ob-star-visualizer/static/data/plot_data.json', orient='records')\n",
    "# pd.DataFrame(nighttime_frac).to_json('../static-ob-star-visualizer/static/data/nighttime_frac.json', orient='records')\n",
    "# pd.DataFrame(integrated_h2_map).to_json('../static-ob-star-visualizer/static/data/integrated_h2_map.json', orient='records')\n",
    "\n",
    "# for file_name in os.listdir('../../ob_catalogue/ob_catalogue_spectra/'):\n",
    "#     if file_name[-4:] == '.csv':\n",
    "#         spectrum = pd.DataFrame(np.genfromtxt('../../ob_catalogue/ob_catalogue_spectra/' + file_name, delimiter=',', dtype='float'))\n",
    "#         plot_data.to_json(f'../static-ob-star-visualizer/static/data/spectra/{file_name[:-4]}.json', orient='records')"
   ]
  },
  {
   "cell_type": "code",
   "execution_count": 17,
   "metadata": {},
   "outputs": [
    {
     "name": "stdout",
     "output_type": "stream",
     "text": [
      "0      #FF0000\n",
      "1      #FF0000\n",
      "2      #FF0000\n",
      "3      #FF0000\n",
      "4      #FF0000\n",
      "        ...   \n",
      "532    #FF0000\n",
      "533    #FF0000\n",
      "534    #FF0000\n",
      "535    #FF0000\n",
      "536    #FF0000\n",
      "Name: Color, Length: 537, dtype: object\n"
     ]
    }
   ],
   "source": [
    "spectralColors = {\n",
    "    'O-type': '#1000FF',\n",
    "    'B-type': '#FF0000'\n",
    "}\n",
    "\n",
    "print(plot_data[\"Color\"].map(spectralColors))"
   ]
  },
  {
   "cell_type": "code",
   "execution_count": null,
   "metadata": {},
   "outputs": [],
   "source": []
  }
 ],
 "metadata": {
  "kernelspec": {
   "display_name": "Python (conda_env)",
   "language": "python",
   "name": "conda_env"
  },
  "language_info": {
   "codemirror_mode": {
    "name": "ipython",
    "version": 3
   },
   "file_extension": ".py",
   "mimetype": "text/x-python",
   "name": "python",
   "nbconvert_exporter": "python",
   "pygments_lexer": "ipython3",
   "version": "3.12.2"
  }
 },
 "nbformat": 4,
 "nbformat_minor": 2
}
