{
 "cells": [
  {
   "cell_type": "markdown",
   "metadata": {},
   "source": [
    "# Convert data files to .json"
   ]
  },
  {
   "cell_type": "markdown",
   "metadata": {},
   "source": [
    "### Load data"
   ]
  },
  {
   "cell_type": "code",
   "execution_count": 1,
   "metadata": {},
   "outputs": [],
   "source": [
    "import os\n",
    "import json\n",
    "import numpy as np\n",
    "import pandas as pd\n",
    "from astropy.modeling import models, fitting\n",
    "from data import plot_data, nighttime_frac\n",
    "from load_fims_spear_maps import integrated_h2_map\n",
    "\n",
    "plot_data = plot_data.drop('Hover Text', axis=1)"
   ]
  },
  {
   "cell_type": "markdown",
   "metadata": {},
   "source": [
    "### Prepare plot_data"
   ]
  },
  {
   "cell_type": "code",
   "execution_count": 2,
   "metadata": {},
   "outputs": [],
   "source": [
    "### fix sizes \n",
    "\n",
    "mags = np.array(plot_data['Apparent Magnitude'])\n",
    "\n",
    "pt1 = [np.min(mags.astype('float')), 30]\n",
    "pt2 = [np.max(mags.astype('float')), 3]\n",
    "tau = (pt2[0]-pt1[0]) / np.log(pt1[1]/pt2[1])\n",
    "A = pt1[1] * np.exp(pt1[0] / tau)\n",
    "sizes = A * np.exp(-mags.astype('float') / tau)\n",
    "\n",
    "plot_data[\"Size\"] = sizes\n",
    "\n",
    "### add hasspectra column\n",
    "\n",
    "hasspectra = np.zeros(plot_data.shape[0]).astype('bool')\n",
    "iue_paths = np.zeros(plot_data.shape[0]).astype('U64')\n",
    "names = os.listdir('../v2-static-ob-star-visualizer/static/data/spectra')\n",
    "for i, name in enumerate(plot_data[\"Name\"]+\".json\"):\n",
    "\n",
    "    if name.replace(' ', '_') in names:\n",
    "        hasspectra[i] = True\n",
    "        iue_paths[i] = 'static/data/spectra/' + name.replace(' ', '_')\n",
    "\n",
    "plot_data[\"HasSpectra\"] = hasspectra\n",
    "plot_data[\"IUESpectra\"] = iue_paths"
   ]
  },
  {
   "cell_type": "markdown",
   "metadata": {},
   "source": [
    "### Prepare integrated_h2_map"
   ]
  },
  {
   "cell_type": "code",
   "execution_count": 3,
   "metadata": {},
   "outputs": [],
   "source": [
    "latitudes = np.linspace(-90, 90, integrated_h2_map.shape[0]).tolist()\n",
    "longitudes = np.linspace(0, 360, integrated_h2_map.shape[1]).tolist()\n",
    "z_values = integrated_h2_map.tolist()\n",
    "\n",
    "integrated_h2_map = {\n",
    "    \"x\": longitudes,\n",
    "    \"y\": latitudes,\n",
    "    \"z\": z_values\n",
    "}"
   ]
  },
  {
   "cell_type": "markdown",
   "metadata": {},
   "source": [
    "### Export .json files"
   ]
  },
  {
   "cell_type": "code",
   "execution_count": 4,
   "metadata": {},
   "outputs": [],
   "source": [
    "plot_data.to_json('../v2-static-ob-star-visualizer/static/data/plot_data.json', orient='records')\n",
    "\n",
    "with open('../v2-static-ob-star-visualizer/static/data/integrated_h2_map.json', 'w') as f:\n",
    "    json.dump(integrated_h2_map, f)\n",
    "\n",
    "# pd.DataFrame(nighttime_frac).to_json('../v2-static-ob-star-visualizer/static/data/nighttime_frac.json', orient='records')\n",
    "\n",
    "# for file_name in os.listdir('../../ob_catalogue/ob_catalogue_spectra/'):\n",
    "#     if file_name[-4:] == '.csv':\n",
    "#         spectrum = pd.DataFrame(np.genfromtxt('../../ob_catalogue/ob_catalogue_spectra/' + file_name, delimiter=',', dtype='float'))\n",
    "#         plot_data.to_json(f'../static-ob-star-visualizer/static/data/spectra/{file_name[:-4]}.json', orient='records')"
   ]
  },
  {
   "cell_type": "markdown",
   "metadata": {},
   "source": [
    "### Prepare and export OB star spectra as .json files"
   ]
  },
  {
   "cell_type": "code",
   "execution_count": 6,
   "metadata": {},
   "outputs": [],
   "source": [
    "import matplotlib.pyplot as plt"
   ]
  },
  {
   "cell_type": "code",
   "execution_count": 21,
   "metadata": {},
   "outputs": [],
   "source": [
    "for name in os.listdir('../../ob_catalogue/ob_catalogue_spectra/'):\n",
    "    if name.endswith('.csv'):\n",
    "        arr = np.loadtxt('../../ob_catalogue/ob_catalogue_spectra/' + name, delimiter=',', dtype='float')\n",
    "\n",
    "        if arr.ndim == 2:\n",
    "            wavelengths = arr[:,:int(arr.shape[1]/2)].tolist()\n",
    "            fluxes = arr[:,int(arr.shape[1]/2):].tolist()\n",
    "        else:\n",
    "            wavelengths = arr[:int(arr.shape[0]/2)].tolist()\n",
    "            fluxes = arr[int(arr.shape[0]/2):].tolist()\n",
    "\n",
    "        data = {\n",
    "            'wavelength': wavelengths,\n",
    "            'flux': fluxes\n",
    "        }\n",
    "\n",
    "        if arr.ndim == 2:\n",
    "            avg_wav = np.mean(wavelengths, axis=0)\n",
    "            avg_flux = np.mean(fluxes, axis=0)\n",
    "        else:\n",
    "            avg_wav = np.array(wavelengths)\n",
    "            avg_flux = np.array(fluxes)\n",
    "\n",
    "        mask = np.ones_like(avg_wav).astype('bool')\n",
    "        regions = ['1150:1265','1375:1425','1515:1675']\n",
    "        for region in regions:\n",
    "            lims = np.array(region.split(':')).astype('float')\n",
    "            mask *= np.invert((lims[0] < avg_wav) & (avg_wav < lims[1]))\n",
    "\n",
    "        poly_init = models.Chebyshev1D(degree=3)\n",
    "        fitter = fitting.LinearLSQFitter()\n",
    "        cont_model = fitter(poly_init, avg_wav[mask], avg_flux[mask])\n",
    "        cont_flux = cont_model(avg_wav)\n",
    "\n",
    "        avg = np.column_stack((avg_wav, avg_flux)).tolist()\n",
    "        cont = np.column_stack((avg_wav, cont_flux)).tolist()\n",
    "\n",
    "        fits = {\n",
    "            'avg': avg,\n",
    "            'cont': cont\n",
    "        }\n",
    "\n",
    "        with open('../v2-static-ob-star-visualizer/static/data/spectra/' + name[:-4] + '.json', 'w') as f:\n",
    "            json.dump(data, f)\n",
    "\n",
    "        with open('../v2-static-ob-star-visualizer/static/data/spectra/' + name[:-4] + '_fits.json', 'w') as f:\n",
    "            json.dump(fits, f)"
   ]
  },
  {
   "cell_type": "code",
   "execution_count": null,
   "metadata": {},
   "outputs": [],
   "source": []
  }
 ],
 "metadata": {
  "kernelspec": {
   "display_name": "Python (conda_env)",
   "language": "python",
   "name": "conda_env"
  },
  "language_info": {
   "codemirror_mode": {
    "name": "ipython",
    "version": 3
   },
   "file_extension": ".py",
   "mimetype": "text/x-python",
   "name": "python",
   "nbconvert_exporter": "python",
   "pygments_lexer": "ipython3",
   "version": "3.12.2"
  }
 },
 "nbformat": 4,
 "nbformat_minor": 2
}
